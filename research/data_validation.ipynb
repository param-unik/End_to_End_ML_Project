{
 "cells": [
  {
   "cell_type": "code",
   "execution_count": 1,
   "metadata": {},
   "outputs": [],
   "source": [
    "import os\n",
    "%pwd\n",
    "os.chdir('../')"
   ]
  },
  {
   "cell_type": "code",
   "execution_count": 2,
   "metadata": {},
   "outputs": [
    {
     "data": {
      "text/plain": [
       "'c:\\\\Data-Science\\\\ML Projects\\\\End_to_End_ML_Project'"
      ]
     },
     "execution_count": 2,
     "metadata": {},
     "output_type": "execute_result"
    }
   ],
   "source": [
    "%pwd"
   ]
  },
  {
   "cell_type": "markdown",
   "metadata": {},
   "source": [
    "### Entity\n"
   ]
  },
  {
   "cell_type": "code",
   "execution_count": 4,
   "metadata": {},
   "outputs": [],
   "source": [
    "from dataclasses import dataclass\n",
    "from pathlib import Path\n",
    "\n",
    "\n",
    "@dataclass(frozen=True)\n",
    "class DataValidationConfig:\n",
    "    root_dir: Path\n",
    "    unzip_dir: Path\n",
    "    STATUS_FILE: str\n",
    "    all_schema: dict"
   ]
  },
  {
   "cell_type": "markdown",
   "metadata": {},
   "source": [
    "### Configuration Manager\n"
   ]
  },
  {
   "cell_type": "code",
   "execution_count": 5,
   "metadata": {},
   "outputs": [],
   "source": [
    "from src.e2emlproject.constants import *\n",
    "from src.e2emlproject.utils.common import read_yaml, create_directories\n",
    "\n",
    "\n",
    "class ConfigurationManager:\n",
    "    def __init__(\n",
    "        self,\n",
    "        config_file_path=CONFIG_FILE_PATH,\n",
    "        params_file_path=PARAMS_FILE_PATH,\n",
    "        schema_file_path=SCHEMA_FILE_PATH,\n",
    "    ):\n",
    "        self.config = read_yaml(config_file_path)\n",
    "        self.params = read_yaml(params_file_path)\n",
    "        self.schema = read_yaml(schema_file_path)\n",
    "\n",
    "        create_directories([self.config.artifcats_root])\n",
    "\n",
    "    def get_data_validation_config(self) -> DataValidationConfig:\n",
    "        config = self.config.data_validation\n",
    "        schema = self.schema.COLUMNS\n",
    "\n",
    "        create_directories([config.root_dir])\n",
    "\n",
    "        data_validation_config = DataValidationConfig(\n",
    "            root_dir=config.root_dir,\n",
    "            unzip_dir=config.unzip_dir,\n",
    "            STATUS_FILE=config.STATUS_FILE,\n",
    "            all_schema=schema,\n",
    "        )\n",
    "\n",
    "        return data_validation_config"
   ]
  },
  {
   "cell_type": "markdown",
   "metadata": {},
   "source": [
    "### Component\n"
   ]
  },
  {
   "cell_type": "code",
   "execution_count": 13,
   "metadata": {},
   "outputs": [],
   "source": [
    "import pandas as pd\n",
    "import numpy as np\n",
    "\n",
    "\n",
    "class DataValidation:\n",
    "    def __init__(self, config: DataValidationConfig):\n",
    "        self.config = config\n",
    "\n",
    "    def validate_all_columns(self) -> bool:\n",
    "        try:\n",
    "            validation_status = None\n",
    "            data = pd.read_csv(self.config.unzip_dir)\n",
    "\n",
    "            all_cols = list(data.columns)\n",
    "            is_valid = [\n",
    "                data[col].dtype in [np.int64, np.float64] for col in data.columns\n",
    "            ]\n",
    "\n",
    "            all_schemas = self.config.all_schema.keys()\n",
    "\n",
    "            for col, valid in zip(all_cols, is_valid):\n",
    "                if not valid:\n",
    "                    validation_status = False\n",
    "                    with open(self.config.STATUS_FILE, \"a+\") as f:\n",
    "                        f.write(\n",
    "                            f\"Data type status for {col} is : {validation_status}\\n\"\n",
    "                        )\n",
    "                else:\n",
    "                    validation_status = True\n",
    "                    with open(self.config.STATUS_FILE, \"a+\") as f:\n",
    "                        f.write(\n",
    "                            f\"Data type status for {col} is : {validation_status}\\n\"\n",
    "                        )\n",
    "\n",
    "            for col in all_cols:\n",
    "                if col not in all_schemas:\n",
    "                    validation_status = False\n",
    "                    with open(self.config.STATUS_FILE, \"a+\") as f:\n",
    "                        f.write(\n",
    "                            f\"Validation status for {col} is : {validation_status}\\n\"\n",
    "                        )\n",
    "                else:\n",
    "                    validation_status = True\n",
    "                    with open(self.config.STATUS_FILE, \"a+\") as f:\n",
    "                        f.write(\n",
    "                            f\"Validation status for {col} is : {validation_status}\\n\"\n",
    "                        )\n",
    "\n",
    "            return validation_status\n",
    "\n",
    "        except Exception as e:\n",
    "            raise e"
   ]
  },
  {
   "cell_type": "code",
   "execution_count": 14,
   "metadata": {},
   "outputs": [
    {
     "name": "stdout",
     "output_type": "stream",
     "text": [
      "[2024-05-04 18:58:04,653 INFO 3728979782 - Data validation process started!:]\n",
      "[2024-05-04 18:58:04,655 INFO common - yaml file: config\\config.yaml loaded successfully]\n",
      "[2024-05-04 18:58:04,656 INFO common - yaml file: params.yaml loaded successfully]\n",
      "[2024-05-04 18:58:04,659 INFO common - yaml file: schema.yaml loaded successfully]\n",
      "[2024-05-04 18:58:04,660 INFO common - created directory at: artifacts]\n",
      "[2024-05-04 18:58:04,660 INFO common - created directory at: artifacts/data_validation]\n",
      "[2024-05-04 18:58:04,768 INFO 3728979782 - Data validation process completed!]\n"
     ]
    }
   ],
   "source": [
    "from src.e2emlproject.logging import logger\n",
    "\n",
    "try:\n",
    "    logger.info(\"Data validation process started!:\")\n",
    "    config = ConfigurationManager()\n",
    "    data_validation_config = config.get_data_validation_config()\n",
    "    data_validation = DataValidation(config=data_validation_config)\n",
    "    data_validation.validate_all_columns()\n",
    "    logger.info(\"Data validation process completed!\")\n",
    "except Exception as e:\n",
    "    raise e"
   ]
  },
  {
   "cell_type": "code",
   "execution_count": 12,
   "metadata": {},
   "outputs": [
    {
     "name": "stdout",
     "output_type": "stream",
     "text": [
      "hello word \n",
      "\n"
     ]
    }
   ],
   "source": [
    "print(\"hello word \\n\")"
   ]
  },
  {
   "cell_type": "code",
   "execution_count": null,
   "metadata": {},
   "outputs": [],
   "source": []
  }
 ],
 "metadata": {
  "kernelspec": {
   "display_name": "e2emlenv",
   "language": "python",
   "name": "python3"
  },
  "language_info": {
   "codemirror_mode": {
    "name": "ipython",
    "version": 3
   },
   "file_extension": ".py",
   "mimetype": "text/x-python",
   "name": "python",
   "nbconvert_exporter": "python",
   "pygments_lexer": "ipython3",
   "version": "3.8.19"
  }
 },
 "nbformat": 4,
 "nbformat_minor": 2
}
